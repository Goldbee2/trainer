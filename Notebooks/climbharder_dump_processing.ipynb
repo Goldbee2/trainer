{
 "cells": [
  {
   "cell_type": "code",
   "execution_count": 20,
   "id": "ddce6c08-8378-4d78-a3c8-b75887e26e8d",
   "metadata": {},
   "outputs": [],
   "source": [
    "import zstandard as zstd\n",
    "import json\n",
    "\n",
    "# Path to your Pushshift .zst file (e.g., 'RS_2024-01.zst')\n",
    "ZST_FILE_PATH = '../Data/climbharder_submissions.zst'\n",
    "\n",
    "def process_pushshift_zst(file_path, subreddit_filter, score_threshold):\n",
    "    with open(file_path, 'rb') as f:\n",
    "        dctx = zstd.ZstdDecompressor()\n",
    "        stream_reader = dctx.stream_reader(f)\n",
    "        buffer = b''\n",
    "        for chunk in iter(lambda: stream_reader.read(2**20), b''):\n",
    "            buffer += chunk\n",
    "            lines = buffer.split(b'\\n')\n",
    "            buffer = lines.pop()  # Save the last partial line for the next read\n",
    "            \n",
    "            for line in lines:\n",
    "                if not line.strip():\n",
    "                    continue\n",
    "                try:\n",
    "                    post = json.loads(line)\n",
    "                    if (post.get('subreddit') == subreddit_filter and \n",
    "                        post.get('score', 0) > score_threshold):\n",
    "                        score = post.get('score')\n",
    "                        title = post.get('title', '').strip()\n",
    "                        selftext = post.get('selftext', '').strip()\n",
    "                        timestamp = post.get('created_utc')\n",
    "                        \n",
    "                        print(json.dumps({\n",
    "                            'score': score,\n",
    "                            'title': title,\n",
    "                            'body': selftext,\n",
    "                            'timestamp': timestamp\n",
    "                        }))\n",
    "                except json.JSONDecodeError:\n",
    "                    continue\n",
    "\n",
    "if __name__ == \"__main__\":\n",
    "    process_pushshift_zst(\n",
    "        file_path=ZST_FILE_PATH,\n",
    "        subreddit_filter='climbharder',\n",
    "        score_threshold=20\n",
    "    )"
   ]
  },
  {
   "cell_type": "code",
   "execution_count": null,
   "id": "6158cd6d-7bfb-4255-b678-ccdc48b564ae",
   "metadata": {},
   "outputs": [],
   "source": []
  }
 ],
 "metadata": {
  "kernelspec": {
   "display_name": "Python 3 (ipykernel)",
   "language": "python",
   "name": "python3"
  },
  "language_info": {
   "codemirror_mode": {
    "name": "ipython",
    "version": 3
   },
   "file_extension": ".py",
   "mimetype": "text/x-python",
   "name": "python",
   "nbconvert_exporter": "python",
   "pygments_lexer": "ipython3",
   "version": "3.10.12"
  }
 },
 "nbformat": 4,
 "nbformat_minor": 5
}
