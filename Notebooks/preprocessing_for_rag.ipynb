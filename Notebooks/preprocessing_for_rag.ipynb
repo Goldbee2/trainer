{
 "cells": [
  {
   "cell_type": "code",
   "execution_count": 1,
   "id": "354d43a7-21d4-43c4-b6a3-8a05c06a66bd",
   "metadata": {},
   "outputs": [],
   "source": [
    "import zstandard as zstd\n",
    "import json\n",
    "import sys\n",
    "import os"
   ]
  },
  {
   "cell_type": "markdown",
   "id": "049d1bec-a5c8-41ef-8038-829f83462aab",
   "metadata": {},
   "source": [
    "## Preprocessing\n",
    "This will read, filter, clean, and combine my data for chunking and ingestion for RAG."
   ]
  },
  {
   "cell_type": "code",
   "execution_count": 2,
   "id": "2db5ea67-5454-4051-a780-adfdd7656550",
   "metadata": {},
   "outputs": [],
   "source": [
    "submissions_zst_path = \"../Data/climbharder_submissions.zst\" #local path to file\n",
    "comments_zst_path = \"../Data/climbharder_comments.zst\"\n",
    "output_path_submissions = \"../Data/climbharder_posts.txt\"\n",
    "output_path_comments = \"../Data/climbharder_comments.txt\"\n"
   ]
  },
  {
   "cell_type": "markdown",
   "id": "d4623817-ef54-4472-b24b-f53174a9b646",
   "metadata": {},
   "source": [
    "### Processing zst-compressed ndj files\n",
    "For this step, I read the zst into a buffer a few lines at a time. For each line, I load the post (or comment) and filter it for sufficient karma threshold and text length. Then, I write it into the output file on its own line. My goal is to create one large newline-separated txt file of all post/comment content."
   ]
  },
  {
   "cell_type": "code",
   "execution_count": 3,
   "id": "acb828ca-cc1c-4615-863e-05a68aefd0d8",
   "metadata": {},
   "outputs": [],
   "source": [
    "\n",
    "def process_pushshift_zst(input_path, output_path, subreddit_filter, score_threshold):\n",
    "    if not os.path.isfile(input_path):\n",
    "        print(f\"Error: File '{input_path}' not found.\")\n",
    "        return\n",
    "\n",
    "    with open(input_path, 'rb') as f, open(output_path, 'w', encoding='utf-8') as out_file:\n",
    "        dctx = zstd.ZstdDecompressor()\n",
    "        stream_reader = dctx.stream_reader(f)\n",
    "        buffer = b''\n",
    "        for chunk in iter(lambda: stream_reader.read(2**20), b''):\n",
    "            buffer += chunk\n",
    "            lines = buffer.split(b'\\n')\n",
    "            buffer = lines.pop()  # Save the last partial line for the next iteration\n",
    "\n",
    "            for line in lines:\n",
    "                if not line.strip():\n",
    "                    continue\n",
    "                try:\n",
    "                    post = json.loads(line)\n",
    "                    if post.get('subreddit') != subreddit_filter:\n",
    "                        continue\n",
    "                    if post.get('score', 0) <= score_threshold:\n",
    "                        continue\n",
    "\n",
    "                    # For submissions\n",
    "                    if 'title' in post:\n",
    "                        title = post.get('title', '').strip()\n",
    "                        body = post.get('selftext', '').strip()\n",
    "                        full_text = f\"{title} {body}\".strip()\n",
    "                    # For comments\n",
    "                    else:\n",
    "                        full_text = post.get('body', '').strip()\n",
    "\n",
    "                    if len(full_text) < 120:\n",
    "                        continue\n",
    "\n",
    "                    out_file.write(full_text + '\\n')\n",
    "\n",
    "                except json.JSONDecodeError:\n",
    "                    continue\n"
   ]
  },
  {
   "cell_type": "code",
   "execution_count": 4,
   "id": "35366dd1-7b07-49fc-9e18-ad35b219b991",
   "metadata": {},
   "outputs": [],
   "source": [
    "process_pushshift_zst(\n",
    "        input_path=submissions_zst_path,\n",
    "        output_path=output_path_submissions,\n",
    "        subreddit_filter='climbharder',\n",
    "        score_threshold=20\n",
    "    )\n",
    "\n",
    "process_pushshift_zst(\n",
    "        input_path=comments_zst_path,\n",
    "        output_path=output_path_comments,\n",
    "        subreddit_filter='climbharder',\n",
    "        score_threshold=20\n",
    "    )"
   ]
  },
  {
   "cell_type": "markdown",
   "id": "3b030889-52db-4230-99ce-2acc1b6abe5e",
   "metadata": {},
   "source": [
    "### Concatenation\n",
    "Since it's easier (and safer) to process these two massive zst files into separate txts using the above script, I need to combine them into one file"
   ]
  },
  {
   "cell_type": "code",
   "execution_count": 5,
   "id": "66f7bfa9-a181-4c08-8906-15fafd06cfb0",
   "metadata": {},
   "outputs": [],
   "source": [
    "def concatenate_two_txt_files(source_path1, source_path2, destination_path):\n",
    "    try:\n",
    "        with open(destination_path, 'w', encoding='utf-8') as dest_file:\n",
    "            for source_path in [source_path1, source_path2]:\n",
    "                with open(source_path, 'r', encoding='utf-8') as source_file:\n",
    "                    for line in source_file:\n",
    "                        dest_file.write(line)\n",
    "        print(f\"Successfully wrote combined contents to '{destination_path}'.\")\n",
    "    except FileNotFoundError as e:\n",
    "        print(f\"Error: {e}\")"
   ]
  },
  {
   "cell_type": "code",
   "execution_count": 6,
   "id": "a7e2fcc1-5475-4b16-8dd8-aef2e8da71b8",
   "metadata": {},
   "outputs": [
    {
     "name": "stdout",
     "output_type": "stream",
     "text": [
      "Successfully wrote combined contents to '../Data/climbharder_posts_and_comments.txt'.\n"
     ]
    }
   ],
   "source": [
    "output_posts_and_comments = \"../Data/climbharder_posts_and_comments.txt\"\n",
    "concatenate_two_txt_files(output_path_submissions, output_path_comments, output_posts_and_comments)"
   ]
  },
  {
   "cell_type": "markdown",
   "id": "0897bcfb-6778-4a5f-9b9e-4df965472cb6",
   "metadata": {},
   "source": [
    "### Loading and Splitting\n",
    "\n",
    "Now I have to load and split the document. I used [https://chunkviz.up.railway.app/](this) site to find a text splitting style and chunk size that seems to work well with my data."
   ]
  },
  {
   "cell_type": "code",
   "execution_count": 7,
   "id": "f00741f7-0ea6-4b88-8c51-dbcfdbe6c284",
   "metadata": {},
   "outputs": [],
   "source": [
    "from langchain.text_splitter import RecursiveCharacterTextSplitter\n",
    "\n",
    "with open(\"../Data/climbharder_posts_and_comments.txt\", 'r', encoding='utf-8') as f:\n",
    "    raw_text = f.read()\n",
    "\n",
    "splitter = RecursiveCharacterTextSplitter(\n",
    "    chunk_size=500,\n",
    "    chunk_overlap=100\n",
    ")\n",
    "\n",
    "docs = splitter.create_documents([raw_text])\n"
   ]
  },
  {
   "cell_type": "markdown",
   "id": "4c7bd2ab-2695-4104-8c89-268cc84d70a9",
   "metadata": {},
   "source": [
    "### Embedding\n",
    "Now that I've loaded and split my text, I'll try to embed the chunks in an embedding model"
   ]
  },
  {
   "cell_type": "code",
   "execution_count": 8,
   "id": "0c78b0e7-23d6-4c87-9f40-186635a86097",
   "metadata": {},
   "outputs": [
    {
     "name": "stdout",
     "output_type": "stream",
     "text": [
      "starting\n",
      "texts:Dave MacLeod's treatment for fingery injuries contradicts everything I thought I knew http://www.onlineclimbingcoach.blogspot.ca/2012/03/injuries-problem-with-lay-off.html\n",
      "[0.051051077, 0.064840145, -0.1929585, 0.0008151712, 0.023558656, 0.03602159, 0.054215994, 0.006765342, 0.021193804, -0.07227144, 0.023222871, -0.019632885, 0.008925711, -0.026930299, 0.08541349, -0.030865876, -0.05620055, -0.022050012, -0.019279892, 0.008773777, -0.046379857, -0.035400372, -0.051545817, 7.968705e-05, 0.05468656, -0.050549537, -0.028870258, 0.02118899, -0.014771791, 0.03487955, 0.06283174, 0.02908895, -0.00684938, -0.05738809, -0.034202483, -0.023635868, 0.054646183, 0.042553984, -0.042642675, 0.0053183064, 0.0091708675, 0.011177209, 0.028631823, -0.063040346, 0.026954273, -0.0585496, -0.008536334, 0.0690073, -0.052999105, 0.023176584, 0.051429834, -0.090897664, -0.014594037, -0.0065667946, 0.014116502, 0.025369633, 0.0056919595, 0.021106543, 0.047338564, -0.07656957, 0.07748395, 0.033252776, -0.06354852, 0.027494134, 0.00011312239, -0.050862428, -0.025650179, -0.0029601788, 0.046074014, -0.0371836, 0.046974618, -0.05882801, 0.048216697, 0.051147677, -0.050949655, 0.036020044, -0.026827805, -0.0287382, -0.024252515, 0.035285126, 0.010147954, 0.035914607, 0.016815215, -0.033035666, 0.016771803, 0.0069623617, 0.03505635, -0.0005605635, -0.035119817, 0.05572099, -0.022787778, 0.03615361, 0.04957857, 0.052871272, -0.062399264, -0.029358938, -0.002911726, 0.023482317, -0.017597884, -0.049939495, -0.064101994, 0.006040764, -0.013068208, 0.019837717, 0.020474399, 0.03663513, 0.019164119, 0.008577575, -0.021030212, -0.027767917, 0.010938439, 0.047218945, -0.013833956, -0.00013928927, 0.034611937, -0.002207645, 0.007932966, -0.0345174, 0.01319699, 0.011083353, -0.036125425, -0.044352755, -0.04131616, 0.053055055, 0.028351063, -0.018231852, -0.03116185, -0.002491917, -0.013270503, -0.009508724, -0.042348344, -0.017448599, 0.024504784, -0.008047506, 0.062311787, -0.022235839, 0.0052380958, -0.031287126, -0.020404745, 0.021336634, 0.019583879, 0.0008565382, -0.02083485, -0.056289706, 0.03262279, 0.012733013, 0.0041869064, 0.02384655, -0.033682663, -0.024440343, 0.024878459, 0.028557949, 0.015881807, -0.017657587, 0.033440314, 0.0013312616, -0.064488284, 0.058363765, 0.0338064, 0.044726837, 0.07419518, -0.028653236, -0.040503573, 0.081493, 0.026760293, -0.026061643, 0.008899391, 0.012162089, 0.012708405, 0.06075894, -0.05325824, -0.046262357, -0.011089899, -0.043482523, 0.050366845, 0.052051295, 0.020595066, -0.019502016, -0.030196691, -0.048812594, 0.007931829, 0.0021478424, 0.011282253, 0.012931341, 0.032225262, 0.04982157, 0.03689959, -0.020261224, -0.050106905, -0.052022185, -0.027740128, 0.026658865, -0.020277478, -0.022689248, -0.035530105, 0.0019745685, 0.022014065, 0.0101815825, 0.015082904, 0.027795244, -0.06579511, -0.0012066707, -0.013112157, -0.040421393, -0.058980107, 0.061452154, -0.0016459085, 0.016497128, -0.025565857, 0.0013959472, 0.052096914, -0.048049424, 0.013354262, 0.0070112576, -0.018185368, -0.03915148, -0.01304199, 0.0054404214, -0.034753107, -0.006288238, 0.015941856, -0.01850667, 0.010262955, -0.008994015, 0.011168195, -0.0017171081, -0.017429048, 0.023499776, -0.035839822, -0.01878821, -0.017793033, -0.07468052, 0.05393883, 0.009663588, -0.022451518, 0.01733233, 0.004609473, 0.01586161, 0.054754768, 0.016628996, -0.024181174, 0.042709563, -0.044843353, -0.04309214, -0.031026084, 0.041190702, -0.0058591664, -0.024809906, -0.009803872, 0.046861917, 0.010143885, 0.0017318247, -0.008861141, 0.032039296, 0.059854973, 0.009824691, -0.04593818, -0.0055209114, -0.00032360383, 0.015455258, 0.03503414, 0.0091265105, 0.051638238, 0.0035666153, -0.09844805, -0.031018859, -0.020552535, 0.009798653, -0.035061225, -0.02541295, -0.04299202, -0.0013581978, -0.020863725, 0.10517085, 0.050342854, -0.05529743, 0.050405134, -0.0052961307, -0.054307412, -0.011968844, -0.025574774, 0.016369015, -0.013272351, -0.011121959, 0.008038819, 0.04629411, -0.013517067, -0.04625888, -0.036324568, 0.0034167676, 0.06254942, 0.0056758095, -0.008773079, 0.037991446, 0.012320277, 0.037297666, 0.044580888, -0.00956804, 0.0023488197, -0.032349788, 0.022747077, 0.030656787, 0.005460947, 0.05875722, 0.037689812, 0.014941645, 0.037990727, -0.032400385, 0.06927176, -0.04781128, 0.001282268, 0.0086159175, -0.014004099, 0.014031134, -0.011824571, 0.011253214, 0.014953244, 0.0018597929, 0.04655346, 0.039909475, -0.016304292, -0.032479413, -0.02343833, -0.027085157, 0.017162517, 0.08815307, -0.023421014, 0.023094969, -0.021637978, 0.02357791, 0.008933486, 0.070935704, 0.028080473, -0.08483059, -0.032809857, -0.00963738, -0.058266934, 0.031592418, 0.04603191, 0.028478984, 0.0821056, -0.010858019, 0.010899233, -0.057383515, 0.012793084, 0.048224803, -0.042705525, 0.03175292, 0.009271918, 0.034125596, 0.018906258, -0.011069358, -0.027622044, 0.0113957245, 0.006116883, 0.0394762, 0.01360914, 0.011436563, -0.009686369, -0.006910014, 0.03963486, 0.020461908, -0.049653616, -0.07285342, 0.020216394, 0.012402726, 0.07594752, 0.018922202, -0.01617499, -0.021359608, -0.05363131, -0.0069066286, 0.019561395, 0.018339641, 0.001887657, 0.00029387255, -0.061447404, -0.006334648, 0.014737104, 0.060077325, -0.036449637, -0.008727474, 0.019794479, -0.0071377736, 0.042730298, 0.036437344, 0.028766826, -0.012155264, 0.013580164, 0.027289491, 0.007911312, -0.077535436, -0.024635207, -0.00984318, 0.024617657, -0.045411997, -0.035473853, 0.019761888, 0.0212589, 0.029063348, -0.0575033, -0.042088315, -0.0028741953, -0.011695442, -0.026533632, 0.09464399, -0.051661856, -0.020905804, 0.018628243, 0.0022062862, 0.038822215, 0.068993874, 0.0041413987, -0.06922738, 0.013157845, 0.0491165, 0.04095858, 0.02249949, 0.01204336, 0.008782147, 0.023819242, 0.039328165, -0.018177535, -0.038034827, 0.055198852, 0.07584083, 0.011472248, 0.032224733, 0.043332033, -0.06479407, 0.025528783, 0.009612258, 0.0044410927, 0.008209041, 0.01943129, 0.035703763, 0.018802606, 0.04436285, 0.029684294, 0.06364222, 0.072860785, -0.043427043, -0.024729863, 0.010225573, 0.033320997, 0.04041198, 0.05804759, -0.06025715, -0.06832026, 0.014093554, 0.004984103, 0.011615216, 0.051954214, 0.0034632967, 0.040506188, -0.044471737, 0.02989829, -0.002360403, -0.019552292, 0.01854519, 0.023128478, -0.026210742, -0.034085166, 0.020553106, -0.0032900046, 0.025241936, -0.044251237, -0.01531613, -0.018660871, 0.058128007, 0.0072715464, 0.046184517, 0.0079720495, -0.05868827, -0.02884537, -0.0006260253, 0.0040731602, -0.00666058, -0.010433192, 0.022513306, 0.008208528, -0.02213643, -0.05277243, -0.042354256, -0.007882889, 0.018791376, 0.016954016, -0.016262453, -0.023621185, 0.020801332, 0.07482602, 0.036088392, 0.033474017, -0.003259762, -0.023821153, 0.02939934, -0.009567275, 0.09794955, 0.036140572, -0.031180274, 0.018023958, 0.03767454, -0.0016150791, -0.020729285, 0.028275456, -0.010477923, 0.02432652, -0.040435772, -0.036839474, 0.012092773, 0.037926666, 0.0049331663, -0.026331926, 0.07340989, 0.030787084, -0.025816211, 0.00656536, 0.03251186, -0.03211095, 0.014516659, -0.013115885, -0.03381642, -0.016823824, -0.043603346, -0.099498264, -0.024741566, -0.0061757467, -0.024528455, -0.0063980217, 0.0023675277, 0.038301565, 0.0120945815, -0.01909064, 0.030387875, -0.02153241, -0.02178213, -0.0032997245, 0.02309636, 0.0020431252, 0.039007757, -0.019941103, 0.012186117, 0.014912508, 0.010675604, -0.119797856, -0.0010612949, -0.0141331, 0.01740444, -0.007797819, -0.03812387, 0.057024375, -0.036745206, -0.023187937, -0.036822, 0.0135836415, -0.027781751, -0.07375252, -0.013386992, -0.046444435, -0.032968465, 0.014945336, 0.055894803, 0.032349702, -0.0051099807, 0.035459813, -0.041860025, -0.020714302, -0.016344784, 0.024668472, -0.008168328, 0.011408123, -0.021081178, -0.02693229, 0.020311125, -0.049557503, 0.03387922, 0.01124927, -0.0027890431, -0.08380181, -0.030680604, -0.018263282, 0.01905483, 0.045598716, 0.019094512, -0.012314678, -0.025996776, -0.033941634, -0.023000719, 0.033864915, -0.0661533, 0.008286998, 0.032706928, -0.03125662, -0.015489565, 0.007484427, -0.02358422, 0.01220241, -0.01730474, -0.019451903, -0.066254534, 0.030775767, -0.011899223, 0.05085911, -0.06969065, 0.0023380981, 0.06039564, 0.02779193, 0.010427311, 0.035252538, -0.023798957, 0.015301365, 0.04151923, -0.009103905, -0.009386732, 0.033523142, 0.0038787113, 0.0047399937, -0.022247227, -0.018284509, -0.051676884, -0.01770949, -0.036887784, 0.0140942475, -0.030089695, 0.023552855, -0.0044437395, -0.06503037, -0.061063077, -0.0211185, 0.029441314, -0.008249486, -0.0034202351, -0.0771242, 0.04209093, -0.03802306, 0.02923793, -0.011194562, -0.020103978, -0.0039208257, 0.016702546, 0.01913741, -0.016015017, -0.010435631, -0.0024368563, -0.005899477, -0.017433906, 0.01314707, -0.004803981, -0.016469568, 0.019569483, 0.088135496, 0.08538925, 0.028390741, 0.016956769, 0.04694444, 0.009979773, 0.0053989696, -0.06558484, -0.054695643, -0.0689536, -0.033830628, 0.010964434, -0.047929548, 0.012953385, -0.027146596, -0.009245455, -0.014360307, 0.011786184, -0.05709961, -0.006580441, 0.016525766, 0.038965683, 0.013264981, -0.0058683143, 0.034407817, 0.082137264, 0.04837904, 0.0015391492, -0.042017564, 0.011019239, 0.00901292, 0.01912444, 0.067194365, -0.019487498, -0.022015383, -0.005349733, 0.09119585, -0.045029305, -0.048294336, -0.0050624236, -0.00025685874, -0.011394704, 0.00014057384, 0.006346604, 0.05228896, -0.016537463, 0.045682997, 0.048351534, -0.02180601, 0.037077677, 0.019644922, 0.014349769, 0.015765157, 0.04672254, -0.027213464, 0.04268108, 0.010061681, -0.036374815, -0.017154545, 0.0005438493, 0.042389896, -0.03616107, 0.012879511, 0.057000257, 0.009641497, 0.0008847928, -0.0059727794, -0.107144885, -0.0075000036, -0.028160501, 0.033093046, -0.005086826, -0.053335126, -0.033826273, -0.015929762, -0.0035642383, 0.044213235, -0.040917497, 0.025581116, 0.01830249, -0.013136521, -0.070278965, -0.02801696, 0.014182239, -0.027450224, -0.050421897, -0.07718485, -0.022974323, -0.02176003, -0.037454125, -0.036686085, 0.025827155, 0.015155136, -0.0065857796, -0.018685775, 0.0054649008, -0.014898157, 0.009139749, 0.017179057, 0.0077692373, -0.010246823, 0.0060512344, -0.04120365, 0.019726368, 0.005353857, -0.0107610505, 0.0021705863, 0.007379531, 0.07764973, -0.012442783, -0.02355215, -0.05116446, 0.0033222754, -0.032767702, -0.021626487, -0.022439627, -0.039765127, 0.012716573]\n"
     ]
    }
   ],
   "source": [
    "from langchain_ollama import OllamaEmbeddings\n",
    "\n",
    "embed_model = OllamaEmbeddings(model=\"nomic-embed-text\")\n",
    "print(\"starting\")\n",
    "texts = [doc.page_content for doc in docs]\n",
    "print(f\"texts:{texts[0]}\")\n",
    "embeddings = embed_model.embed_documents(texts)\n",
    "\n",
    "print(embeddings[0])"
   ]
  },
  {
   "cell_type": "code",
   "execution_count": 13,
   "id": "9e6f2424-0784-45c1-a4c5-87b9071c68c0",
   "metadata": {},
   "outputs": [],
   "source": [
    "from langchain.vectorstores import Chroma\n",
    "\n",
    "vectorstore=Chroma.from_documents(documents=docs, embedding = embed_model, persist_directory=\"../db\")"
   ]
  },
  {
   "cell_type": "code",
   "execution_count": 27,
   "id": "98a56bae-f124-47e5-be47-f9d12abafce8",
   "metadata": {},
   "outputs": [
    {
     "name": "stdout",
     "output_type": "stream",
     "text": [
      "[Document(metadata={}, page_content='Do wrist extensor exercises from Eric Horst seen here help as well? https://trainingforclimbing.com/training-the-wrist-stabilizers/'), Document(metadata={}, page_content='like to create a compendium of exercises, tools, etc that target wrist strength not from a wrist stability point of view but from a strength point of view. Here is a start.'), Document(metadata={}, page_content=\"Wrist training is the new hangboarding Lately wrist training for slopers and compression have become all the rage. I think this is mainly sparked by two podcast guests: Yves Gravelle and Dan Varian. In it they discuss how training their wrists has increased their sloper strength dramatically. Apart from these podcasts there doesn't seem to be a great deal of information on wrist training. I'd like to create a compendium of exercises, tools, etc that target wrist strength not from a wrist\"), Document(metadata={}, page_content='* Function: general conditioning for the weak, scale it up to be forearm maintenance &amp; antagonist training for the strong\\n* How to perform: google\\n* Rec volume: 3-5 sets of 3-10 (if you can’t do 3, use lighter object. If you can do 10 easily, use heavier object or choose different exercise)\\n\\n1. Wrist rotations – both directions (req: as above)')]\n"
     ]
    }
   ],
   "source": [
    "retriever = vectorstore.as_retriever()\n",
    "results = retriever.invoke(\"what exercises help strengthen the wrist?\")\n",
    "print(results)"
   ]
  },
  {
   "cell_type": "code",
   "execution_count": null,
   "id": "2116f360-0176-40d5-821f-546fdece8481",
   "metadata": {},
   "outputs": [],
   "source": []
  }
 ],
 "metadata": {
  "kernelspec": {
   "display_name": "Python 3 (ipykernel)",
   "language": "python",
   "name": "python3"
  },
  "language_info": {
   "codemirror_mode": {
    "name": "ipython",
    "version": 3
   },
   "file_extension": ".py",
   "mimetype": "text/x-python",
   "name": "python",
   "nbconvert_exporter": "python",
   "pygments_lexer": "ipython3",
   "version": "3.10.12"
  }
 },
 "nbformat": 4,
 "nbformat_minor": 5
}
